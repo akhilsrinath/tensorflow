{
  "nbformat": 4,
  "nbformat_minor": 0,
  "metadata": {
    "colab": {
      "name": "Celcius_to_Farenheit.ipynb",
      "provenance": [],
      "collapsed_sections": []
    },
    "kernelspec": {
      "name": "python3",
      "display_name": "Python 3"
    },
    "accelerator": "GPU"
  },
  "cells": [
    {
      "cell_type": "code",
      "metadata": {
        "id": "t61R0yisCdrG",
        "colab_type": "code",
        "colab": {}
      },
      "source": [
        ""
      ],
      "execution_count": 0,
      "outputs": []
    },
    {
      "cell_type": "markdown",
      "metadata": {
        "id": "WN4G-eHBEUHY",
        "colab_type": "text"
      },
      "source": [
        "The problem we will solve is to convert from Celcius to Farenheit, where the approximate formula is :\n",
        "  f = c*1.8 + 32\n",
        "  \n",
        "We will give TensorFlow some sample celcius degrees (0,8,15,22,38) and their corresponding Farenheit scales (32,46,59,72,100) and then train a model that figures out the above formula through the training process"
      ]
    },
    {
      "cell_type": "code",
      "metadata": {
        "id": "nIdnxDggCfKh",
        "colab_type": "code",
        "colab": {}
      },
      "source": [
        ""
      ],
      "execution_count": 0,
      "outputs": []
    },
    {
      "cell_type": "markdown",
      "metadata": {
        "id": "_dgRXXObFVvd",
        "colab_type": "text"
      },
      "source": [
        "#### Importing the dependencies"
      ]
    },
    {
      "cell_type": "markdown",
      "metadata": {
        "id": "ddPrSLq_FVBr",
        "colab_type": "text"
      },
      "source": [
        "\n"
      ]
    },
    {
      "cell_type": "code",
      "metadata": {
        "id": "5O4a3h99F4Ft",
        "colab_type": "code",
        "colab": {}
      },
      "source": [
        "from __future__ import absolute_import, division, print_function, unicode_literals "
      ],
      "execution_count": 0,
      "outputs": []
    },
    {
      "cell_type": "code",
      "metadata": {
        "id": "lvfLY_K1GBy0",
        "colab_type": "code",
        "colab": {
          "base_uri": "https://localhost:8080/",
          "height": 35
        },
        "outputId": "36f04d0b-a138-4af7-c410-0c2ce62ac92b"
      },
      "source": [
        "try:\n",
        "  %tensorflow_version 2.x\n",
        "except Exception:\n",
        "  pass\n",
        "\n",
        "import tensorflow as tf "
      ],
      "execution_count": 3,
      "outputs": [
        {
          "output_type": "stream",
          "text": [
            "TensorFlow 2.x selected.\n"
          ],
          "name": "stdout"
        }
      ]
    },
    {
      "cell_type": "code",
      "metadata": {
        "id": "ewNp2wbFGQFH",
        "colab_type": "code",
        "colab": {}
      },
      "source": [
        "import numpy as np\n",
        "import logging \n",
        "logger = tf.get_logger()\n",
        "logger.setLevel(logging.ERROR)"
      ],
      "execution_count": 0,
      "outputs": []
    },
    {
      "cell_type": "code",
      "metadata": {
        "id": "-E1y46p-GcXz",
        "colab_type": "code",
        "colab": {}
      },
      "source": [
        "\n"
      ],
      "execution_count": 0,
      "outputs": []
    },
    {
      "cell_type": "markdown",
      "metadata": {
        "id": "gXM1cXl3GvQY",
        "colab_type": "text"
      },
      "source": [
        "#### Setting up training data\n"
      ]
    },
    {
      "cell_type": "code",
      "metadata": {
        "id": "1kLYHg0HHF4w",
        "colab_type": "code",
        "colab": {
          "base_uri": "https://localhost:8080/",
          "height": 146
        },
        "outputId": "056b2b53-8c02-44df-c678-3752371d5396"
      },
      "source": [
        "celcius = np.array([-40, -10, 0, 8, 15, 22, 38], dtype=float)\n",
        "farenheit = np.array([-40, 14, 32, 46, 59, 72, 100], dtype=float)\n",
        "\n",
        "for i,c in enumerate(celcius):\n",
        "  print(\"{} degrees celcius = {} degree farenheit\".format(c, farenheit[i]))"
      ],
      "execution_count": 5,
      "outputs": [
        {
          "output_type": "stream",
          "text": [
            "-40.0 degrees celcius = -40.0 degree farenheit\n",
            "-10.0 degrees celcius = 14.0 degree farenheit\n",
            "0.0 degrees celcius = 32.0 degree farenheit\n",
            "8.0 degrees celcius = 46.0 degree farenheit\n",
            "15.0 degrees celcius = 59.0 degree farenheit\n",
            "22.0 degrees celcius = 72.0 degree farenheit\n",
            "38.0 degrees celcius = 100.0 degree farenheit\n"
          ],
          "name": "stdout"
        }
      ]
    },
    {
      "cell_type": "code",
      "metadata": {
        "id": "mk4Jc4yzN9Tx",
        "colab_type": "code",
        "colab": {}
      },
      "source": [
        ""
      ],
      "execution_count": 0,
      "outputs": []
    },
    {
      "cell_type": "markdown",
      "metadata": {
        "id": "yVTHk5ciOq0G",
        "colab_type": "text"
      },
      "source": [
        "#### Creating the model \n",
        "We create the model using the Dense Network with a single layer and a single neuron.\n",
        "\n",
        "input_shape=[1] : This implies that the input to the layer is single valued. The single value is the degrees in celcius. \n",
        "units = 1 : This specifies the number of neurons in the layer. This specifies how many internal variables the layer has to try to learn how to solve the problem. This also specifies the output is a single float value representing degrees farenheit. "
      ]
    },
    {
      "cell_type": "code",
      "metadata": {
        "id": "I7Ja1jFWUefL",
        "colab_type": "code",
        "colab": {}
      },
      "source": [
        "l0 = tf.keras.layers.Dense(units=1, input_shape=[1])\n"
      ],
      "execution_count": 0,
      "outputs": []
    },
    {
      "cell_type": "code",
      "metadata": {
        "id": "axD1rL4RUvhF",
        "colab_type": "code",
        "colab": {}
      },
      "source": [
        ""
      ],
      "execution_count": 0,
      "outputs": []
    },
    {
      "cell_type": "markdown",
      "metadata": {
        "id": "va-rBwADUxWS",
        "colab_type": "text"
      },
      "source": [
        "#### Assembling the layers\n",
        "Once the layers are defined, the next step is to assemble the layers into a model. The Sequential model definition takes a list of layers as argument. The model has just one layer, l0\n"
      ]
    },
    {
      "cell_type": "code",
      "metadata": {
        "id": "gpNksGTMV4DV",
        "colab_type": "code",
        "colab": {}
      },
      "source": [
        "model = tf.keras.Sequential([l0])"
      ],
      "execution_count": 0,
      "outputs": []
    },
    {
      "cell_type": "code",
      "metadata": {
        "id": "dGY7ZDUhWHuq",
        "colab_type": "code",
        "colab": {}
      },
      "source": [
        ""
      ],
      "execution_count": 0,
      "outputs": []
    },
    {
      "cell_type": "markdown",
      "metadata": {
        "id": "QTjG3ITUWJve",
        "colab_type": "text"
      },
      "source": [
        "Another way of defining and assembling the model is as follows :\n",
        "model = tf.keras.Sequential([tf.keras.layers.Dense(units=1, input_shape=[1])])"
      ]
    },
    {
      "cell_type": "code",
      "metadata": {
        "id": "K2tiokXxWmJX",
        "colab_type": "code",
        "colab": {}
      },
      "source": [
        ""
      ],
      "execution_count": 0,
      "outputs": []
    },
    {
      "cell_type": "markdown",
      "metadata": {
        "id": "Rl_RBkmXWuyr",
        "colab_type": "text"
      },
      "source": [
        "#### Compiling the model\n",
        "Before training, the model has to be compiled using the loss function and the optimizer function. Loss function - way of measuring how far off predictions are from actual values. Optimizer function - way of adjusting internal values to minimize loss \n",
        "\n",
        "\n",
        "\n"
      ]
    },
    {
      "cell_type": "code",
      "metadata": {
        "id": "8xj6d7FPWzzh",
        "colab_type": "code",
        "colab": {}
      },
      "source": [
        "model.compile(loss='mean_squared_error', optimizer=tf.keras.optimizers.Adam(0.1))"
      ],
      "execution_count": 0,
      "outputs": []
    },
    {
      "cell_type": "code",
      "metadata": {
        "id": "2BsVirqOXoEn",
        "colab_type": "code",
        "colab": {}
      },
      "source": [
        ""
      ],
      "execution_count": 0,
      "outputs": []
    },
    {
      "cell_type": "markdown",
      "metadata": {
        "id": "sTbSn0FdYEo3",
        "colab_type": "text"
      },
      "source": [
        "#### Training the model \n",
        "Train the model by calling the fit method.\n",
        "\n",
        "During training, the model takes in Celsius values, performs a calculation using the current internal variables (called \"weights\") and outputs values which are meant to be the Fahrenheit equivalent. Since the weights are initially set randomly, the output will not be close to the correct value. The difference between the actual output and the desired output is calculated using the loss function, and the optimizer function directs how the weights should be adjusted.\n",
        "\n",
        "This cycle of calculate, compare, adjust is controlled by the fit method. The first argument is the inputs, the second argument is the desired outputs. The epochs argument specifies how many times this cycle should be run, and the verbose argument controls how much output the method produces."
      ]
    },
    {
      "cell_type": "code",
      "metadata": {
        "id": "RYw8FqCTYf5g",
        "colab_type": "code",
        "colab": {
          "base_uri": "https://localhost:8080/",
          "height": 35
        },
        "outputId": "18368fab-450a-4a79-d9a0-1f917295e1e6"
      },
      "source": [
        "history = model.fit(celcius, farenheit, epochs=500, verbose=False)\n",
        "print(\"Finshed training the model\")"
      ],
      "execution_count": 9,
      "outputs": [
        {
          "output_type": "stream",
          "text": [
            "Finshed training the model\n"
          ],
          "name": "stdout"
        }
      ]
    },
    {
      "cell_type": "code",
      "metadata": {
        "id": "-l-vUb31YtoT",
        "colab_type": "code",
        "colab": {}
      },
      "source": [
        ""
      ],
      "execution_count": 0,
      "outputs": []
    },
    {
      "cell_type": "markdown",
      "metadata": {
        "id": "YcGMkh4-ZAzG",
        "colab_type": "text"
      },
      "source": [
        "#### Display trainnnig statistics \n"
      ]
    },
    {
      "cell_type": "code",
      "metadata": {
        "id": "DL_pBnbWZGY_",
        "colab_type": "code",
        "colab": {
          "base_uri": "https://localhost:8080/",
          "height": 301
        },
        "outputId": "c99d838a-57fd-426e-f566-d2c460e451f7"
      },
      "source": [
        "import matplotlib.pyplot as plt\n",
        "plt.xlabel('Epoch Number')\n",
        "plt.ylabel('Loss magnitude')\n",
        "plt.plot(history.history['loss'])"
      ],
      "execution_count": 10,
      "outputs": [
        {
          "output_type": "execute_result",
          "data": {
            "text/plain": [
              "[<matplotlib.lines.Line2D at 0x7f799d4a3518>]"
            ]
          },
          "metadata": {
            "tags": []
          },
          "execution_count": 10
        },
        {
          "output_type": "display_data",
          "data": {
            "image/png": "[encoded data removed]",
            "text/plain": [
              "<Figure size 432x288 with 1 Axes>"
            ]
          },
          "metadata": {
            "tags": []
          }
        }
      ]
    },
    {
      "cell_type": "code",
      "metadata": {
        "id": "K-_rbtRgZVcn",
        "colab_type": "code",
        "colab": {}
      },
      "source": [
        ""
      ],
      "execution_count": 0,
      "outputs": []
    },
    {
      "cell_type": "markdown",
      "metadata": {
        "id": "6O0l96CbZmVc",
        "colab_type": "text"
      },
      "source": [
        "#### Making predictions "
      ]
    },
    {
      "cell_type": "code",
      "metadata": {
        "id": "8kAHDV66ZpaO",
        "colab_type": "code",
        "colab": {
          "base_uri": "https://localhost:8080/",
          "height": 35
        },
        "outputId": "96d4f3a0-3249-49a1-e738-a202d4ba43ac"
      },
      "source": [
        "print(model.predict([100.0]))"
      ],
      "execution_count": 11,
      "outputs": [
        {
          "output_type": "stream",
          "text": [
            "[[211.28435]]\n"
          ],
          "name": "stdout"
        }
      ]
    },
    {
      "cell_type": "code",
      "metadata": {
        "id": "r5IFHSPeZsuN",
        "colab_type": "code",
        "colab": {}
      },
      "source": [
        ""
      ],
      "execution_count": 0,
      "outputs": []
    },
    {
      "cell_type": "markdown",
      "metadata": {
        "id": "uueKB4wtZ16Q",
        "colab_type": "text"
      },
      "source": [
        "#### Looking at layer weights "
      ]
    },
    {
      "cell_type": "code",
      "metadata": {
        "id": "Ba4Xg6KXZ4_B",
        "colab_type": "code",
        "colab": {
          "base_uri": "https://localhost:8080/",
          "height": 35
        },
        "outputId": "a17b462d-b2da-47d4-c03f-5be8dcfad4dc"
      },
      "source": [
        "print(\"The layer weights are : {}\".format(l0.get_weights()))"
      ],
      "execution_count": 12,
      "outputs": [
        {
          "output_type": "stream",
          "text": [
            "The layer weights are : [array([[1.8278633]], dtype=float32), array([28.498018], dtype=float32)]\n"
          ],
          "name": "stdout"
        }
      ]
    },
    {
      "cell_type": "code",
      "metadata": {
        "id": "v7llKGCGaCLy",
        "colab_type": "code",
        "colab": {}
      },
      "source": [
        ""
      ],
      "execution_count": 0,
      "outputs": []
    }
  ]
}